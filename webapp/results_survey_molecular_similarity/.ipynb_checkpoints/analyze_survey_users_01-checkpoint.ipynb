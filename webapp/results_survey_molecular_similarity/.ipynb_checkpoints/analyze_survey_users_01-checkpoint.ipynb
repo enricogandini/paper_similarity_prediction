{
 "cells": [
  {
   "cell_type": "markdown",
   "id": "98d6bc94-3261-40af-9626-f550a66a27f3",
   "metadata": {},
   "source": [
    "# Analysis of User Distribution in Molecular Similarity Survey"
   ]
  },
  {
   "cell_type": "code",
   "execution_count": 1,
   "id": "40154243-2026-424b-ba76-c41fc31e0ed8",
   "metadata": {},
   "outputs": [],
   "source": [
    "import datetime\n",
    "from pathlib import Path\n",
    "\n",
    "import pandas as pd\n",
    "import matplotlib.pyplot as plt\n",
    "import numpy as np\n",
    "import seaborn as sns"
   ]
  },
  {
   "cell_type": "markdown",
   "id": "c32c1cd2-fa86-4e2f-804d-55c6b8fdb0cd",
   "metadata": {},
   "source": [
    "## Define directories and files"
   ]
  },
  {
   "cell_type": "code",
   "execution_count": 2,
   "id": "d6aa383a-a7f3-4409-bc7f-03683b2700a1",
   "metadata": {},
   "outputs": [],
   "source": [
    "#The current notebook should be\n",
    "#in the main directory containing queried results.\n",
    "dir_results = Path.cwd()"
   ]
  },
  {
   "cell_type": "markdown",
   "id": "d481ca28-0764-4349-ae26-ff851225d840",
   "metadata": {},
   "source": [
    "Select the date when the survey ended, and define the directory containing survey results up to that date."
   ]
  },
  {
   "cell_type": "code",
   "execution_count": 3,
   "id": "3367c9bd-d3af-4df4-82b8-486121cc360f",
   "metadata": {},
   "outputs": [],
   "source": [
    "date_end_survey = datetime.date(year=2021, month=6, day=28)\n",
    "dir_queries = Path(dir_results, f\"queried_heroku_{date_end_survey}\")"
   ]
  },
  {
   "cell_type": "markdown",
   "id": "ccaf6592-b212-425e-be9f-bfce1ce12045",
   "metadata": {},
   "source": [
    "Load DataFrame containing survey users. The dataset was produced by the \"retrieve answers\" script, using SQLAlchemy."
   ]
  },
  {
   "cell_type": "code",
   "execution_count": 4,
   "id": "4eda5388-e1d5-4c94-9d8f-0e94351bc274",
   "metadata": {},
   "outputs": [
    {
     "name": "stdout",
     "output_type": "stream",
     "text": [
      "503 users took the survey.\n"
     ]
    },
    {
     "data": {
      "text/html": [
       "<div>\n",
       "<style scoped>\n",
       "    .dataframe tbody tr th:only-of-type {\n",
       "        vertical-align: middle;\n",
       "    }\n",
       "\n",
       "    .dataframe tbody tr th {\n",
       "        vertical-align: top;\n",
       "    }\n",
       "\n",
       "    .dataframe thead th {\n",
       "        text-align: right;\n",
       "    }\n",
       "</style>\n",
       "<table border=\"1\" class=\"dataframe\">\n",
       "  <thead>\n",
       "    <tr style=\"text-align: right;\">\n",
       "      <th></th>\n",
       "      <th>id</th>\n",
       "      <th>date</th>\n",
       "      <th>status</th>\n",
       "      <th>display_above</th>\n",
       "      <th>experience</th>\n",
       "    </tr>\n",
       "  </thead>\n",
       "  <tbody>\n",
       "    <tr>\n",
       "      <th>0</th>\n",
       "      <td>08a4dcef576a4e69bfcc18395b3678e3</td>\n",
       "      <td>2021-04-14</td>\n",
       "      <td>Completed</td>\n",
       "      <td>2D</td>\n",
       "      <td>None of the above</td>\n",
       "    </tr>\n",
       "    <tr>\n",
       "      <th>1</th>\n",
       "      <td>f00df380882a44358142d03b416f6959</td>\n",
       "      <td>2021-04-26</td>\n",
       "      <td>Completed</td>\n",
       "      <td>3D</td>\n",
       "      <td>Professor / Researcher</td>\n",
       "    </tr>\n",
       "    <tr>\n",
       "      <th>2</th>\n",
       "      <td>b8ff4dbd2a2c45cba408b153a6f8d1ee</td>\n",
       "      <td>2021-04-26</td>\n",
       "      <td>Completed</td>\n",
       "      <td>2D</td>\n",
       "      <td>Postdoc</td>\n",
       "    </tr>\n",
       "    <tr>\n",
       "      <th>3</th>\n",
       "      <td>bfc29918626542d881cdacb0906ac61b</td>\n",
       "      <td>2021-04-26</td>\n",
       "      <td>Started</td>\n",
       "      <td>NaN</td>\n",
       "      <td>NaN</td>\n",
       "    </tr>\n",
       "    <tr>\n",
       "      <th>4</th>\n",
       "      <td>5ed8d6ce41c445cd8917b7e7f0d89a20</td>\n",
       "      <td>2021-04-14</td>\n",
       "      <td>Completed</td>\n",
       "      <td>3D</td>\n",
       "      <td>Postdoc</td>\n",
       "    </tr>\n",
       "    <tr>\n",
       "      <th>...</th>\n",
       "      <td>...</td>\n",
       "      <td>...</td>\n",
       "      <td>...</td>\n",
       "      <td>...</td>\n",
       "      <td>...</td>\n",
       "    </tr>\n",
       "    <tr>\n",
       "      <th>498</th>\n",
       "      <td>31e2ff993b7c498d8dd0634c68c6020f</td>\n",
       "      <td>2021-06-16</td>\n",
       "      <td>Completed</td>\n",
       "      <td>2D</td>\n",
       "      <td>Professor / Researcher</td>\n",
       "    </tr>\n",
       "    <tr>\n",
       "      <th>499</th>\n",
       "      <td>af80d51f8967449582d5cda8d2dc2fe0</td>\n",
       "      <td>2021-06-16</td>\n",
       "      <td>Started</td>\n",
       "      <td>NaN</td>\n",
       "      <td>NaN</td>\n",
       "    </tr>\n",
       "    <tr>\n",
       "      <th>500</th>\n",
       "      <td>2f8c6efaffd243498c9576d5eee87aaa</td>\n",
       "      <td>2021-06-22</td>\n",
       "      <td>Completed</td>\n",
       "      <td>2D</td>\n",
       "      <td>Professor / Researcher</td>\n",
       "    </tr>\n",
       "    <tr>\n",
       "      <th>501</th>\n",
       "      <td>d1662ad9c314463fa6951c9e7f5be475</td>\n",
       "      <td>2021-06-24</td>\n",
       "      <td>Completed</td>\n",
       "      <td>2D</td>\n",
       "      <td>Professor / Researcher</td>\n",
       "    </tr>\n",
       "    <tr>\n",
       "      <th>502</th>\n",
       "      <td>05110fcae4f2443e890d9a6b482457d8</td>\n",
       "      <td>2021-06-25</td>\n",
       "      <td>Completed</td>\n",
       "      <td>3D</td>\n",
       "      <td>Professor / Researcher</td>\n",
       "    </tr>\n",
       "  </tbody>\n",
       "</table>\n",
       "<p>503 rows × 5 columns</p>\n",
       "</div>"
      ],
      "text/plain": [
       "                                   id        date     status display_above  \\\n",
       "0    08a4dcef576a4e69bfcc18395b3678e3  2021-04-14  Completed            2D   \n",
       "1    f00df380882a44358142d03b416f6959  2021-04-26  Completed            3D   \n",
       "2    b8ff4dbd2a2c45cba408b153a6f8d1ee  2021-04-26  Completed            2D   \n",
       "3    bfc29918626542d881cdacb0906ac61b  2021-04-26    Started           NaN   \n",
       "4    5ed8d6ce41c445cd8917b7e7f0d89a20  2021-04-14  Completed            3D   \n",
       "..                                ...         ...        ...           ...   \n",
       "498  31e2ff993b7c498d8dd0634c68c6020f  2021-06-16  Completed            2D   \n",
       "499  af80d51f8967449582d5cda8d2dc2fe0  2021-06-16    Started           NaN   \n",
       "500  2f8c6efaffd243498c9576d5eee87aaa  2021-06-22  Completed            2D   \n",
       "501  d1662ad9c314463fa6951c9e7f5be475  2021-06-24  Completed            2D   \n",
       "502  05110fcae4f2443e890d9a6b482457d8  2021-06-25  Completed            3D   \n",
       "\n",
       "                 experience  \n",
       "0         None of the above  \n",
       "1    Professor / Researcher  \n",
       "2                   Postdoc  \n",
       "3                       NaN  \n",
       "4                   Postdoc  \n",
       "..                      ...  \n",
       "498  Professor / Researcher  \n",
       "499                     NaN  \n",
       "500  Professor / Researcher  \n",
       "501  Professor / Researcher  \n",
       "502  Professor / Researcher  \n",
       "\n",
       "[503 rows x 5 columns]"
      ]
     },
     "execution_count": 4,
     "metadata": {},
     "output_type": "execute_result"
    }
   ],
   "source": [
    "file_all = Path(dir_queries, \"all_users.csv\")\n",
    "df_all = pd.read_csv(file_all)\n",
    "n_all = df_all.shape[0]\n",
    "print(f\"{n_all} users took the survey.\")\n",
    "df_all"
   ]
  },
  {
   "cell_type": "markdown",
   "id": "418ea73e-2d52-4c50-9567-27795cc6be2f",
   "metadata": {},
   "source": [
    "## Define variables\n",
    "Contained in the input data, and necessary to create nice figures."
   ]
  },
  {
   "cell_type": "code",
   "execution_count": 5,
   "id": "2c5ae131-8e6c-486d-9f5c-2fb7968d8b19",
   "metadata": {},
   "outputs": [],
   "source": [
    "colname_status = \"status\"\n",
    "\n",
    "colname_above = \"display_above\"\n",
    "\n",
    "colname_exper = \"experience\""
   ]
  },
  {
   "cell_type": "code",
   "execution_count": 6,
   "id": "3ab28245-5590-4419-bce8-5a6cfd805a96",
   "metadata": {},
   "outputs": [],
   "source": [
    "nicename_status = \"Level of Survey Completion\"\n",
    "\n",
    "nicename_above = \"Displayed Above\"\n",
    "\n",
    "nicename_experience = \"Academic Title\"\n",
    "\n",
    "nicename_n_users = \"Number of Users\""
   ]
  },
  {
   "cell_type": "code",
   "execution_count": 7,
   "id": "d7840ae2-e360-48dc-9658-b9eb5493b7b4",
   "metadata": {},
   "outputs": [],
   "source": [
    "categories_status = [\"Started\",\n",
    "                     \"Accepted\",\n",
    "                     \"Completed\",\n",
    "                     ]"
   ]
  },
  {
   "cell_type": "code",
   "execution_count": 8,
   "id": "6c4fb8e8-3657-4d2d-8ff8-0201eef62bce",
   "metadata": {},
   "outputs": [],
   "source": [
    "categories_experience = [\"PhD Student\",\n",
    "                         \"Postdoc\",\n",
    "                         \"Professor / Researcher\",\n",
    "                         \"None of the above\",\n",
    "                         ]"
   ]
  },
  {
   "cell_type": "code",
   "execution_count": 9,
   "id": "e5d60be2-c5cd-4d6b-bf6b-20a6e6829af0",
   "metadata": {},
   "outputs": [],
   "source": [
    "FIGSIZE_GOLD = (9.556, 5.906) # Golden Rectangle / (in, in)\n",
    "FIGSIZE_PAGE = (8.27, 11.69) #A4 page without margins.\n",
    "FIGSIZE_SQUARE = (FIGSIZE_GOLD[0], FIGSIZE_GOLD[0])\n",
    "\n",
    "FONTSIZE = 14\n",
    "\n",
    "kwargs_fig_basic = {\"constrained_layout\": True, \"figsize\": FIGSIZE_GOLD}"
   ]
  },
  {
   "cell_type": "markdown",
   "id": "e64e45b9-f325-4e33-84ff-ddde70036ca1",
   "metadata": {},
   "source": [
    "## Create Figures"
   ]
  },
  {
   "cell_type": "markdown",
   "id": "a6fe4ef6-d9bb-43a8-beb4-ca94f57f531e",
   "metadata": {},
   "source": [
    "Directory that will contain all outputs from the analises:"
   ]
  },
  {
   "cell_type": "code",
   "execution_count": 10,
   "id": "0138026e-6370-49cb-83c7-ed21b45e44e9",
   "metadata": {},
   "outputs": [
    {
     "data": {
      "text/plain": [
       "PosixPath('/home/enrico/shared_virtualbox/phd_projects_Enrico_Gandini/phd_project_similarity_prediction/chembl_27/results_survey_molecular_similarity/output_analysis')"
      ]
     },
     "execution_count": 10,
     "metadata": {},
     "output_type": "execute_result"
    }
   ],
   "source": [
    "dir_out = Path(dir_results, \"output_analysis\")\n",
    "dir_out.mkdir(exist_ok=True)\n",
    "dir_out"
   ]
  },
  {
   "cell_type": "markdown",
   "id": "21265970-45ae-425e-b51f-5b0602cee19c",
   "metadata": {},
   "source": [
    "### Analyze and Plot Levels of Survey Completion"
   ]
  },
  {
   "cell_type": "code",
   "execution_count": 11,
   "id": "00bae12e-5b93-451f-a0b1-490252b299b2",
   "metadata": {},
   "outputs": [
    {
     "name": "stdout",
     "output_type": "stream",
     "text": [
      "27 users started the survey, but did not accept to take it: 5.4% of total users.\n",
      "58 users accepted the survey, but did not complete it: 11.5% of total users.\n",
      "418 users completed the survey: 83.1% of total users.\n"
     ]
    }
   ],
   "source": [
    "counts_status = df_all[\"status\"].value_counts()\n",
    "\n",
    "n_start = counts_status[\"Started\"]\n",
    "n_accept = counts_status[\"Accepted\"]\n",
    "n_compl = counts_status[\"Completed\"]\n",
    "\n",
    "frac_start = n_start / n_all\n",
    "frac_accept = n_accept / n_all\n",
    "frac_compl = n_compl / n_all\n",
    "\n",
    "print(f\"{n_start} users started the survey, but did not accept to take it:\"\n",
    "      f\" {frac_start * 100:.1f}% of total users.\")\n",
    "print(f\"{n_accept} users accepted the survey, but did not complete it:\"\n",
    "      f\" {frac_accept * 100:.1f}% of total users.\")\n",
    "print(f\"{n_compl} users completed the survey:\"\n",
    "      f\" {frac_compl * 100:.1f}% of total users.\")"
   ]
  },
  {
   "cell_type": "code",
   "execution_count": 12,
   "id": "cf8862a8-5dba-45e2-94df-4adf7163e16a",
   "metadata": {},
   "outputs": [
    {
     "data": {
      "image/png": "[encoded data removed]",
      "text/plain": [
       "<Figure size 688.032x425.232 with 1 Axes>"
      ]
     },
     "metadata": {
      "needs_background": "light"
     },
     "output_type": "display_data"
    }
   ],
   "source": [
    "fig, ax = plt.subplots(**kwargs_fig_basic)\n",
    "sns.countplot(data=df_all,\n",
    "              x=colname_status,\n",
    "              order=categories_status,\n",
    "              )\n",
    "\n",
    "ax.set_title(f\"{n_all} Total Users\", fontsize=FONTSIZE+2)\n",
    "ax.set_xlabel(nicename_status, fontsize=FONTSIZE)\n",
    "ax.set_ylabel(nicename_n_users, fontsize=FONTSIZE)\n",
    "\n",
    "file_fig = Path(dir_out, \"n_users_level_completion.pdf\")\n",
    "fig.savefig(file_fig)"
   ]
  },
  {
   "cell_type": "markdown",
   "id": "8491f8c8-4723-4c64-9e92-aba9d8beee6e",
   "metadata": {},
   "source": [
    "### Get dataset of users who completed the survey\n",
    "For further analysis."
   ]
  },
  {
   "cell_type": "code",
   "execution_count": 13,
   "id": "fe43ea7f-8496-4719-b147-1e91a7dc1d18",
   "metadata": {},
   "outputs": [],
   "source": [
    "df_compl = df_all.query(f\"{colname_status} == 'Completed'\").copy()"
   ]
  },
  {
   "cell_type": "code",
   "execution_count": 14,
   "id": "62932401-386f-43e9-b7d6-7d46e99d0896",
   "metadata": {},
   "outputs": [
    {
     "data": {
      "text/plain": [
       "PhD Student                70\n",
       "Postdoc                    31\n",
       "Professor / Researcher    257\n",
       "None of the above          60\n",
       "Name: experience, dtype: int64"
      ]
     },
     "execution_count": 14,
     "metadata": {},
     "output_type": "execute_result"
    }
   ],
   "source": [
    "counts_exper = (df_compl[colname_exper]\n",
    "                .value_counts()\n",
    "                .loc[categories_experience]\n",
    "                )\n",
    "counts_exper"
   ]
  },
  {
   "cell_type": "code",
   "execution_count": 15,
   "id": "1238b693-c5b7-4498-96de-1d893013103d",
   "metadata": {},
   "outputs": [
    {
     "data": {
      "text/plain": [
       "PhD Student               0.167\n",
       "Postdoc                   0.074\n",
       "Professor / Researcher    0.615\n",
       "None of the above         0.144\n",
       "Name: experience, dtype: float64"
      ]
     },
     "execution_count": 15,
     "metadata": {},
     "output_type": "execute_result"
    }
   ],
   "source": [
    "fracs_exper = counts_exper / n_compl\n",
    "assert fracs_exper.sum() == 1\n",
    "fracs_exper.round(3)"
   ]
  },
  {
   "cell_type": "code",
   "execution_count": 16,
   "id": "eee0308f-31f0-4198-883a-82d3f6c7a0c8",
   "metadata": {},
   "outputs": [
    {
     "data": {
      "image/png": "[encoded data removed]",
      "text/plain": [
       "<Figure size 688.032x425.232 with 1 Axes>"
      ]
     },
     "metadata": {
      "needs_background": "light"
     },
     "output_type": "display_data"
    }
   ],
   "source": [
    "fig, ax = plt.subplots(**kwargs_fig_basic)\n",
    "sns.countplot(data=df_compl,\n",
    "              x=colname_exper,\n",
    "              order=categories_experience,\n",
    "              )\n",
    "\n",
    "ax.set_title(f\"{n_compl} users completed the survey\", fontsize=FONTSIZE+2)\n",
    "ax.set_xlabel(nicename_experience, fontsize=FONTSIZE)\n",
    "ax.set_ylabel(nicename_n_users, fontsize=FONTSIZE)\n",
    "\n",
    "file_fig = Path(dir_out, \"n_users_experience.pdf\")\n",
    "fig.savefig(file_fig)"
   ]
  },
  {
   "cell_type": "code",
   "execution_count": null,
   "id": "8ffea79c-1c0c-4c1a-a499-26d57ee24023",
   "metadata": {},
   "outputs": [],
   "source": []
  }
 ],
 "metadata": {
  "kernelspec": {
   "display_name": "Python 3",
   "language": "python",
   "name": "python3"
  },
  "language_info": {
   "codemirror_mode": {
    "name": "ipython",
    "version": 3
   },
   "file_extension": ".py",
   "mimetype": "text/x-python",
   "name": "python",
   "nbconvert_exporter": "python",
   "pygments_lexer": "ipython3",
   "version": "3.7.10"
  }
 },
 "nbformat": 4,
 "nbformat_minor": 5
}
