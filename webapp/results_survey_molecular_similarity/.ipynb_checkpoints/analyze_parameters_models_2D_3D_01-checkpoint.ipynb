{
 "cells": [
  {
   "cell_type": "markdown",
   "id": "6e30a3c4-661a-457c-8575-d5249c70d935",
   "metadata": {},
   "source": [
    "# Parameters and Hyperparameters of Fitted Models\n",
    "Load previously fitted models, and save their fitted parameters and used hyperparameters (default values or optimized via grid search) to CSV files for easy inspection!"
   ]
  },
  {
   "cell_type": "code",
   "execution_count": 1,
   "id": "0c10d9a4-9df4-442b-a1a9-7f6001255f2f",
   "metadata": {},
   "outputs": [],
   "source": [
    "from pathlib import Path\n",
    "import pickle\n",
    "\n",
    "import pandas as pd"
   ]
  },
  {
   "cell_type": "markdown",
   "id": "b413ebbb-dd23-4bb6-8f57-e7ccabca78ca",
   "metadata": {},
   "source": [
    "Directory conteining all results of \"Molecular Similarity Survey\"."
   ]
  },
  {
   "cell_type": "code",
   "execution_count": 2,
   "id": "2fbd0301-967b-4dc3-8dfb-ebad4efca758",
   "metadata": {},
   "outputs": [],
   "source": [
    "dir_results = Path.cwd()"
   ]
  },
  {
   "cell_type": "code",
   "execution_count": 3,
   "id": "726fb46d-85ec-4bd6-9dcb-e99f52731450",
   "metadata": {},
   "outputs": [],
   "source": [
    "dir_models = Path(dir_results, \"models_2D_3D\")"
   ]
  },
  {
   "cell_type": "code",
   "execution_count": 4,
   "id": "5d561192-a784-47d2-a523-63d0f4200691",
   "metadata": {},
   "outputs": [],
   "source": [
    "dir_models_analysis = Path(dir_models, \"analysis\")"
   ]
  },
  {
   "cell_type": "markdown",
   "id": "059766db-4bd1-407a-ac15-0b17956f9c91",
   "metadata": {},
   "source": [
    "## Single Feature Models"
   ]
  },
  {
   "cell_type": "code",
   "execution_count": 5,
   "id": "575d431c-c13f-4311-9027-09361612b03a",
   "metadata": {},
   "outputs": [
    {
     "data": {
      "text/html": [
       "<div>\n",
       "<style scoped>\n",
       "    .dataframe tbody tr th:only-of-type {\n",
       "        vertical-align: middle;\n",
       "    }\n",
       "\n",
       "    .dataframe tbody tr th {\n",
       "        vertical-align: top;\n",
       "    }\n",
       "\n",
       "    .dataframe thead th {\n",
       "        text-align: right;\n",
       "    }\n",
       "</style>\n",
       "<table border=\"1\" class=\"dataframe\">\n",
       "  <thead>\n",
       "    <tr style=\"text-align: right;\">\n",
       "      <th></th>\n",
       "      <th>model</th>\n",
       "      <th>coef</th>\n",
       "      <th>intercept</th>\n",
       "    </tr>\n",
       "  </thead>\n",
       "  <tbody>\n",
       "    <tr>\n",
       "      <th>0</th>\n",
       "      <td>tanimoto_cdk_Extended</td>\n",
       "      <td>8.448718</td>\n",
       "      <td>-4.859768</td>\n",
       "    </tr>\n",
       "    <tr>\n",
       "      <th>1</th>\n",
       "      <td>TanimotoCombo</td>\n",
       "      <td>3.553933</td>\n",
       "      <td>-4.464090</td>\n",
       "    </tr>\n",
       "  </tbody>\n",
       "</table>\n",
       "</div>"
      ],
      "text/plain": [
       "                   model      coef  intercept\n",
       "0  tanimoto_cdk_Extended  8.448718  -4.859768\n",
       "1          TanimotoCombo  3.553933  -4.464090"
      ]
     },
     "execution_count": 5,
     "metadata": {},
     "output_type": "execute_result"
    }
   ],
   "source": [
    "dir_single_feature_models = Path(dir_models, \"single_feature_models\")\n",
    "names_single_feature_models = [\"tanimoto_cdk_Extended\", \"TanimotoCombo\"]\n",
    "\n",
    "df_params_single_feature = []\n",
    "for name in names_single_feature_models:\n",
    "    file_model = Path(dir_single_feature_models, f\"{name}.pickle\")\n",
    "    model = pickle.load(open(file_model, \"rb\"))\n",
    "    logreg = model.named_steps[\"logisticregression\"]\n",
    "    \n",
    "    params = {\"model\": name,\n",
    "              \"coef\": logreg.coef_[0, 0],\n",
    "              \"intercept\": logreg.intercept_[0]\n",
    "              }\n",
    "    \n",
    "    df_params_single_feature.append(params)\n",
    "\n",
    "\n",
    "df_params_single_feature = pd.DataFrame(df_params_single_feature)\n",
    "df_params_single_feature"
   ]
  },
  {
   "cell_type": "code",
   "execution_count": 6,
   "id": "adb67d0c-94e7-4c3e-83d4-fbdabdcc934e",
   "metadata": {},
   "outputs": [],
   "source": [
    "file_params_single_feature = Path(dir_models_analysis,\n",
    "                                  \"params_single_feature_models.csv\")\n",
    "df_params_single_feature.to_csv(file_params_single_feature, index=False)"
   ]
  },
  {
   "cell_type": "markdown",
   "id": "6e818554-1d18-418f-b4f1-d0a7b0802c75",
   "metadata": {},
   "source": [
    "## Double Feature Default Models"
   ]
  },
  {
   "cell_type": "code",
   "execution_count": 7,
   "id": "e4b247a6-fd24-4360-91fd-89522a977ef6",
   "metadata": {},
   "outputs": [
    {
     "data": {
      "text/html": [
       "<div>\n",
       "<style scoped>\n",
       "    .dataframe tbody tr th:only-of-type {\n",
       "        vertical-align: middle;\n",
       "    }\n",
       "\n",
       "    .dataframe tbody tr th {\n",
       "        vertical-align: top;\n",
       "    }\n",
       "\n",
       "    .dataframe thead th {\n",
       "        text-align: right;\n",
       "    }\n",
       "</style>\n",
       "<table border=\"1\" class=\"dataframe\">\n",
       "  <thead>\n",
       "    <tr style=\"text-align: right;\">\n",
       "      <th></th>\n",
       "      <th>model</th>\n",
       "      <th>coef0</th>\n",
       "      <th>coef1</th>\n",
       "      <th>intercept</th>\n",
       "      <th>C</th>\n",
       "      <th>l1_ratio</th>\n",
       "    </tr>\n",
       "  </thead>\n",
       "  <tbody>\n",
       "    <tr>\n",
       "      <th>0</th>\n",
       "      <td>noreg</td>\n",
       "      <td>2.939220</td>\n",
       "      <td>1.977581</td>\n",
       "      <td>-4.186075</td>\n",
       "      <td>1.0</td>\n",
       "      <td>NaN</td>\n",
       "    </tr>\n",
       "    <tr>\n",
       "      <th>1</th>\n",
       "      <td>l1</td>\n",
       "      <td>5.680776</td>\n",
       "      <td>2.158461</td>\n",
       "      <td>-6.089577</td>\n",
       "      <td>1.0</td>\n",
       "      <td>NaN</td>\n",
       "    </tr>\n",
       "    <tr>\n",
       "      <th>2</th>\n",
       "      <td>l2</td>\n",
       "      <td>2.939220</td>\n",
       "      <td>1.977581</td>\n",
       "      <td>-4.186075</td>\n",
       "      <td>1.0</td>\n",
       "      <td>NaN</td>\n",
       "    </tr>\n",
       "    <tr>\n",
       "      <th>3</th>\n",
       "      <td>enet</td>\n",
       "      <td>3.649002</td>\n",
       "      <td>2.054181</td>\n",
       "      <td>-4.716563</td>\n",
       "      <td>1.0</td>\n",
       "      <td>0.5</td>\n",
       "    </tr>\n",
       "  </tbody>\n",
       "</table>\n",
       "</div>"
      ],
      "text/plain": [
       "   model     coef0     coef1  intercept    C  l1_ratio\n",
       "0  noreg  2.939220  1.977581  -4.186075  1.0       NaN\n",
       "1     l1  5.680776  2.158461  -6.089577  1.0       NaN\n",
       "2     l2  2.939220  1.977581  -4.186075  1.0       NaN\n",
       "3   enet  3.649002  2.054181  -4.716563  1.0       0.5"
      ]
     },
     "execution_count": 7,
     "metadata": {},
     "output_type": "execute_result"
    }
   ],
   "source": [
    "dir_double_feature_default_models = Path(dir_models, \"double_feature_default_models\")\n",
    "names_double_feature_default_models = [\"noreg\", \"l1\", \"l2\", \"enet\"]\n",
    "n_features = 2\n",
    "\n",
    "df_params_double_feature_default = []\n",
    "for name in names_double_feature_default_models:\n",
    "    file_model = Path(dir_double_feature_default_models, f\"{name}.pickle\")\n",
    "    logreg = pickle.load(open(file_model, \"rb\"))\n",
    "    \n",
    "    params = {\"model\": name}\n",
    "    params.update({f\"coef{i}\": logreg.coef_[0, i]\n",
    "                   for i in range(n_features)})\n",
    "    params[\"intercept\"] = logreg.intercept_[0]\n",
    "    params[\"C\"] = logreg.C\n",
    "    params[\"l1_ratio\"] = logreg.l1_ratio\n",
    "    \n",
    "    df_params_double_feature_default.append(params)\n",
    "\n",
    "\n",
    "df_params_double_feature_default = pd.DataFrame(df_params_double_feature_default)\n",
    "df_params_double_feature_default"
   ]
  },
  {
   "cell_type": "code",
   "execution_count": 8,
   "id": "e1671517-a60d-4250-b5b2-220f07df3e56",
   "metadata": {},
   "outputs": [],
   "source": [
    "file_params_double_feature_default = Path(dir_models_analysis,\n",
    "                                          \"params_double_feature_default_models.csv\")\n",
    "df_params_double_feature_default.to_csv(file_params_double_feature_default, index=False)"
   ]
  },
  {
   "cell_type": "markdown",
   "id": "a6742d19-78d1-43b3-a5fa-b3723a093fd7",
   "metadata": {},
   "source": [
    "## Double Feature Optimized Models"
   ]
  },
  {
   "cell_type": "code",
   "execution_count": 9,
   "id": "0829f68b-f7ad-4092-a730-b7cd3e120101",
   "metadata": {},
   "outputs": [
    {
     "data": {
      "text/html": [
       "<div>\n",
       "<style scoped>\n",
       "    .dataframe tbody tr th:only-of-type {\n",
       "        vertical-align: middle;\n",
       "    }\n",
       "\n",
       "    .dataframe tbody tr th {\n",
       "        vertical-align: top;\n",
       "    }\n",
       "\n",
       "    .dataframe thead th {\n",
       "        text-align: right;\n",
       "    }\n",
       "</style>\n",
       "<table border=\"1\" class=\"dataframe\">\n",
       "  <thead>\n",
       "    <tr style=\"text-align: right;\">\n",
       "      <th></th>\n",
       "      <th>model</th>\n",
       "      <th>coef0</th>\n",
       "      <th>coef1</th>\n",
       "      <th>intercept</th>\n",
       "      <th>C</th>\n",
       "      <th>l1_ratio</th>\n",
       "    </tr>\n",
       "  </thead>\n",
       "  <tbody>\n",
       "    <tr>\n",
       "      <th>0</th>\n",
       "      <td>l1</td>\n",
       "      <td>5.213962</td>\n",
       "      <td>2.008591</td>\n",
       "      <td>-5.604590</td>\n",
       "      <td>0.784760</td>\n",
       "      <td>NaN</td>\n",
       "    </tr>\n",
       "    <tr>\n",
       "      <th>1</th>\n",
       "      <td>l2</td>\n",
       "      <td>6.894836</td>\n",
       "      <td>2.837522</td>\n",
       "      <td>-7.746555</td>\n",
       "      <td>14.384499</td>\n",
       "      <td>NaN</td>\n",
       "    </tr>\n",
       "    <tr>\n",
       "      <th>2</th>\n",
       "      <td>enet</td>\n",
       "      <td>5.213962</td>\n",
       "      <td>2.008591</td>\n",
       "      <td>-5.604590</td>\n",
       "      <td>0.784760</td>\n",
       "      <td>1.0</td>\n",
       "    </tr>\n",
       "  </tbody>\n",
       "</table>\n",
       "</div>"
      ],
      "text/plain": [
       "  model     coef0     coef1  intercept          C  l1_ratio\n",
       "0    l1  5.213962  2.008591  -5.604590   0.784760       NaN\n",
       "1    l2  6.894836  2.837522  -7.746555  14.384499       NaN\n",
       "2  enet  5.213962  2.008591  -5.604590   0.784760       1.0"
      ]
     },
     "execution_count": 9,
     "metadata": {},
     "output_type": "execute_result"
    }
   ],
   "source": [
    "dir_double_feature_optimized_models = Path(dir_models, \"double_feature_optimized_models\")\n",
    "names_double_feature_optimized_models = [\"l1\", \"l2\", \"enet\"]\n",
    "n_features = 2\n",
    "\n",
    "df_params_double_feature_optimized = []\n",
    "for name in names_double_feature_optimized_models:\n",
    "    file_model = Path(dir_double_feature_optimized_models, f\"{name}.pickle\")\n",
    "    logreg = pickle.load(open(file_model, \"rb\"))\n",
    "    \n",
    "    params = {\"model\": name}\n",
    "    params.update({f\"coef{i}\": logreg.coef_[0, i]\n",
    "                   for i in range(n_features)})\n",
    "    params[\"intercept\"] = logreg.intercept_[0]\n",
    "    params[\"C\"] = logreg.C\n",
    "    params[\"l1_ratio\"] = logreg.l1_ratio\n",
    "    \n",
    "    df_params_double_feature_optimized.append(params)\n",
    "\n",
    "\n",
    "df_params_double_feature_optimized = pd.DataFrame(df_params_double_feature_optimized)\n",
    "df_params_double_feature_optimized"
   ]
  },
  {
   "cell_type": "code",
   "execution_count": 10,
   "id": "ad12df5a-287b-4bdd-a0d8-c7d8cbd0b272",
   "metadata": {},
   "outputs": [],
   "source": [
    "file_params_double_feature_optimized = Path(dir_models_analysis,\n",
    "                                            \"params_double_feature_optimized_models.csv\")\n",
    "df_params_double_feature_optimized.to_csv(file_params_double_feature_optimized, index=False)"
   ]
  },
  {
   "cell_type": "code",
   "execution_count": null,
   "id": "de13c169-400b-4303-8f8a-3bb576dcdac1",
   "metadata": {},
   "outputs": [],
   "source": []
  }
 ],
 "metadata": {
  "kernelspec": {
   "display_name": "Python 3",
   "language": "python",
   "name": "python3"
  },
  "language_info": {
   "codemirror_mode": {
    "name": "ipython",
    "version": 3
   },
   "file_extension": ".py",
   "mimetype": "text/x-python",
   "name": "python",
   "nbconvert_exporter": "python",
   "pygments_lexer": "ipython3",
   "version": "3.7.10"
  }
 },
 "nbformat": 4,
 "nbformat_minor": 5
}
