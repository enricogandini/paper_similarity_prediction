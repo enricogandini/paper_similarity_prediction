{
 "cells": [
  {
   "cell_type": "code",
   "execution_count": 1,
   "id": "criminal-designer",
   "metadata": {},
   "outputs": [
    {
     "data": {
      "application/vnd.jupyter.widget-view+json": {
       "model_id": "8bebbd63c1f6472799e042c6db6621a6",
       "version_major": 2,
       "version_minor": 0
      },
      "text/plain": []
     },
     "metadata": {},
     "output_type": "display_data"
    }
   ],
   "source": [
    "import asyncio\n",
    "from pathlib import Path\n",
    "\n",
    "from IPython.display import display, clear_output\n",
    "import ipywidgets as widgets\n",
    "from rdkit import Chem\n",
    "import nglview as nv"
   ]
  },
  {
   "cell_type": "code",
   "execution_count": 2,
   "id": "missing-organ",
   "metadata": {},
   "outputs": [],
   "source": [
    "dir_survey = Path.cwd()"
   ]
  },
  {
   "cell_type": "code",
   "execution_count": 3,
   "id": "champion-instrument",
   "metadata": {},
   "outputs": [],
   "source": [
    "dir_pics = Path(dir_survey, \"images_2D\")\n",
    "\n",
    "bname_pics = \"image_molecule\""
   ]
  },
  {
   "cell_type": "code",
   "execution_count": 4,
   "id": "qualified-angola",
   "metadata": {},
   "outputs": [],
   "source": [
    "dir_confs = Path(dir_survey, \"conformers_3D\")\n",
    "\n",
    "bname_confs = \"best_rocs_conformer\""
   ]
  },
  {
   "cell_type": "code",
   "execution_count": 5,
   "id": "advised-jacket",
   "metadata": {},
   "outputs": [],
   "source": [
    "n_pairs = 100\n",
    "ids_pairs = list(range(1, n_pairs + 1))"
   ]
  },
  {
   "cell_type": "code",
   "execution_count": 6,
   "id": "reasonable-humor",
   "metadata": {},
   "outputs": [],
   "source": [
    "suffixes_mols = [\"a\", \"b\"]"
   ]
  },
  {
   "cell_type": "code",
   "execution_count": 7,
   "id": "norwegian-hypothetical",
   "metadata": {},
   "outputs": [],
   "source": [
    "conditions = widgets.Label(value=(f\"You will be shown {n_pairs} pairs of molecules.\"\n",
    "                                  \"\\nDo you accept?\"),\n",
    "                           )\n",
    "\n",
    "accept = widgets.RadioButtons(options=[\"I Accept\", \"I Decline\"], value=\"I Decline\")\n",
    "\n",
    "grid_initial = widgets.GridBox([conditions, accept])"
   ]
  },
  {
   "cell_type": "code",
   "execution_count": 8,
   "id": "humanitarian-struggle",
   "metadata": {},
   "outputs": [],
   "source": [
    "info_pair_str = \"Pair {}\" + f\"/{n_pairs}\"\n",
    "info_pair = widgets.Label(info_pair_str)\n",
    "\n",
    "border_width = \"2px\"\n",
    "border_style = \"solid\"\n",
    "border_color = \"black\"\n",
    "border_attributes = f\"{border_width} {border_style} {border_color}\"\n",
    "\n",
    "layout_headers = dict(height=\"auto\",\n",
    "                      width=\"auto\",\n",
    "                      )\n",
    "\n",
    "layout_pic = {\"border\": border_attributes}\n",
    "pics = {suffix_mol: widgets.Image(format=\"svg+xml\", layout=layout_pic) for suffix_mol in suffixes_mols}\n",
    "header_pics = widgets.HTML(\"2D Representations:\", layout=layout_headers)\n",
    "grid_pics = widgets.AppLayout(left_sidebar=pics[\"a\"],\n",
    "                              right_sidebar=pics[\"b\"],\n",
    "                              )\n",
    "\n",
    "layout_view = {\"border\": border_attributes}\n",
    "views = {suffix_mol: nv.NGLWidget(layout=layout_view) for suffix_mol in suffixes_mols}\n",
    "grid_gap = \"1%\"\n",
    "header_views = widgets.Label(\"3D Representations (interactive):\", layout=layout_headers)\n",
    "layout_reset_button = dict(width=\"auto\")\n",
    "reset_button = widgets.Button(description=\"Reset 3D Views\", layout=layout_reset_button)\n",
    "grid_views = widgets.AppLayout(left_sidebar=views[\"a\"],\n",
    "                               right_sidebar=views[\"b\"],\n",
    "                               footer=reset_button,\n",
    "                               grid_gap=grid_gap,\n",
    "                               )\n",
    "\n",
    "next_button = widgets.Button(description=\"Next\")\n",
    "\n",
    "\n",
    "grid_survey = widgets.GridBox([info_pair,\n",
    "                               next_button,\n",
    "                               header_pics,\n",
    "                               grid_pics,\n",
    "                               header_views,\n",
    "                               grid_views,\n",
    "                               ],\n",
    "                              layout={\"display\": \"none\"},\n",
    "                               )"
   ]
  },
  {
   "cell_type": "code",
   "execution_count": 9,
   "id": "rising-consumer",
   "metadata": {},
   "outputs": [],
   "source": [
    "completed = widgets.Label(f\"You visualized all {n_pairs} pairs!\",\n",
    "                          layout={\"display\": \"none\"}\n",
    "                          )"
   ]
  },
  {
   "cell_type": "code",
   "execution_count": 10,
   "id": "described-mustang",
   "metadata": {},
   "outputs": [],
   "source": [
    "def switch_widget(old, new):\n",
    "    \"\"\"Conceal `old` widget and show `new` widget.\"\"\"\n",
    "    old.layout.display = \"none\"\n",
    "    new.layout.display = \"block\""
   ]
  },
  {
   "cell_type": "code",
   "execution_count": 11,
   "id": "employed-scout",
   "metadata": {},
   "outputs": [],
   "source": [
    "def new_displayed_molecule(mol: Chem.Mol,\n",
    "                           view: nv.NGLWidget,\n",
    "                           ) -> nv.component.ComponentViewer:\n",
    "    \"\"\"Remove all existing molecules and display a new molecule in a NGLWidget view.\"\"\"\n",
    "    \n",
    "    #Remove all existing components in `view`.\n",
    "    #(if `view` is empty, no component will be removed.)\n",
    "    for component in view:\n",
    "        view.remove_component(component)\n",
    "    \n",
    "    #Add a new component, thus displaying `mol`.\n",
    "    component = view.add_component(mol)\n",
    "    \n",
    "    #For a better display in Voilà.\n",
    "    view.handle_resize()\n",
    "    \n",
    "    return component"
   ]
  },
  {
   "cell_type": "code",
   "execution_count": 12,
   "id": "subsequent-annex",
   "metadata": {},
   "outputs": [],
   "source": [
    "def wait_for_change(widget, value):\n",
    "    future = asyncio.Future()\n",
    "    \n",
    "    def getvalue(change):\n",
    "        # make the new value available\n",
    "        future.set_result(change.new)\n",
    "        widget.unobserve(getvalue, value)\n",
    "        return change.new\n",
    "    \n",
    "    widget.observe(getvalue, value)\n",
    "    return future"
   ]
  },
  {
   "cell_type": "code",
   "execution_count": 13,
   "id": "diverse-grave",
   "metadata": {},
   "outputs": [],
   "source": [
    "def wait_for_click(next_button, id_pair):\n",
    "    future = asyncio.Future()\n",
    "    \n",
    "    #(!)Remember to display a widget before changing its value!\n",
    "    #Otherwise, it will not work as intended (will not appear, will not update...).\n",
    "    \n",
    "    nums_atoms = []\n",
    "    for suffix_mol in suffixes_mols:\n",
    "        \n",
    "        #Load 2D picture and display it.\n",
    "        file_pic = Path(dir_pics, f\"{bname_pics}_{id_pair:03}{suffix_mol}.svg\")\n",
    "        pics[suffix_mol].set_value_from_file(file_pic)\n",
    "        \n",
    "        #Load 3D conformer.\n",
    "        file_mol = Path(dir_confs, f\"{bname_confs}_{id_pair:03}{suffix_mol}.pdb\")\n",
    "        mol = Chem.MolFromPDBFile(file_mol.as_posix(), removeHs=False)\n",
    "        \n",
    "        #Calculate number of atoms\n",
    "        #(it will be used to define a default orientation).\n",
    "        nums_atoms.append(mol.GetNumAtoms())\n",
    "            \n",
    "        #Display molecule.\n",
    "        new_displayed_molecule(mol, views[suffix_mol])\n",
    "        \n",
    "    \n",
    "    #Calculate a default orientation for current molecular pair,\n",
    "    #based on number of atoms.\n",
    "    max_n_atoms = max(nums_atoms)\n",
    "    default_orientation = [0 for i in range(15)]\n",
    "    default_orientation += [1] #last element of 4x4 matrix is always 1\n",
    "    value_diag = min(30, max_n_atoms)\n",
    "    ids_diag = [0, 5, 10] #id of diagonal elements (except last)\n",
    "    for i in ids_diag:\n",
    "        default_orientation[i] = value_diag\n",
    "    \n",
    "    #And set default orientation to both molecules.\n",
    "    views[\"a\"]._set_camera_orientation(default_orientation)\n",
    "    views[\"b\"]._set_camera_orientation(default_orientation)\n",
    "    \n",
    "    \n",
    "    #Make moving one molecule also move the other.\n",
    "    views[\"a\"]._set_sync_camera([views[\"b\"]])\n",
    "    views[\"b\"]._set_sync_camera([views[\"a\"]])\n",
    "    \n",
    "    info_pair.value = info_pair_str.format(id_pair)\n",
    "    \n",
    "    \n",
    "    def reset_views(reset_button):\n",
    "        views[\"a\"]._set_camera_orientation(default_orientation)\n",
    "        views[\"b\"]._set_camera_orientation(default_orientation)\n",
    "    \n",
    "    reset_button.on_click(reset_views)\n",
    "    \n",
    "    \n",
    "    def on_button_clicked(next_button):\n",
    "        future.set_result(None)\n",
    "    \n",
    "    \n",
    "    next_button.on_click(on_button_clicked)\n",
    "    return future"
   ]
  },
  {
   "cell_type": "code",
   "execution_count": 14,
   "id": "incorporated-demographic",
   "metadata": {},
   "outputs": [],
   "source": [
    "async def survey_molecules(ids_pairs):\n",
    "    for id_pair in ids_pairs:\n",
    "        await wait_for_click(next_button, id_pair)"
   ]
  },
  {
   "cell_type": "code",
   "execution_count": 15,
   "id": "played-poison",
   "metadata": {},
   "outputs": [
    {
     "data": {
      "application/vnd.jupyter.widget-view+json": {
       "model_id": "754d4c7b3688410a92badb67ba04060c",
       "version_major": 2,
       "version_minor": 0
      },
      "text/plain": [
       "GridBox(children=(Label(value='You will be shown 100 pairs of molecules.\\nDo you accept?'), RadioButtons(index…"
      ]
     },
     "metadata": {},
     "output_type": "display_data"
    },
    {
     "data": {
      "application/vnd.jupyter.widget-view+json": {
       "model_id": "53037553a8a342fa898153da20174463",
       "version_major": 2,
       "version_minor": 0
      },
      "text/plain": [
       "GridBox(children=(Label(value='Pair {}/100'), Button(description='Next', style=ButtonStyle()), HTML(value='2D …"
      ]
     },
     "metadata": {},
     "output_type": "display_data"
    },
    {
     "data": {
      "application/vnd.jupyter.widget-view+json": {
       "model_id": "6b2d380783274a5e8120d92e6dba6f59",
       "version_major": 2,
       "version_minor": 0
      },
      "text/plain": [
       "Label(value='You visualized all 100 pairs!', layout=Layout(display='none'))"
      ]
     },
     "metadata": {},
     "output_type": "display_data"
    }
   ],
   "source": [
    "async def f():\n",
    "    \n",
    "    await wait_for_change(accept, \"value\")\n",
    "    \n",
    "    switch_widget(grid_initial, grid_survey)\n",
    "    \n",
    "    await survey_molecules(ids_pairs)\n",
    "    \n",
    "    switch_widget(grid_survey, completed)\n",
    "\n",
    "\n",
    "task = asyncio.create_task(f())\n",
    "\n",
    "display(grid_initial,\n",
    "        grid_survey,\n",
    "        completed,\n",
    "        )"
   ]
  },
  {
   "cell_type": "code",
   "execution_count": null,
   "id": "abroad-complexity",
   "metadata": {},
   "outputs": [],
   "source": []
  }
 ],
 "metadata": {
  "kernelspec": {
   "display_name": "Python 3",
   "language": "python",
   "name": "python3"
  },
  "language_info": {
   "codemirror_mode": {
    "name": "ipython",
    "version": 3
   },
   "file_extension": ".py",
   "mimetype": "text/x-python",
   "name": "python",
   "nbconvert_exporter": "python",
   "pygments_lexer": "ipython3",
   "version": "3.7.10"
  }
 },
 "nbformat": 4,
 "nbformat_minor": 5
}
