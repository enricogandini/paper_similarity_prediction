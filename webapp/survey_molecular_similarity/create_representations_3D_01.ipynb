{
 "cells": [
  {
   "cell_type": "code",
   "execution_count": 1,
   "id": "cb3e6060-7a37-4584-b96b-4447e11ba0b2",
   "metadata": {},
   "outputs": [
    {
     "data": {
      "application/vnd.jupyter.widget-view+json": {
       "model_id": "3a632a5704f240c0bcf23fc51e1dfc29",
       "version_major": 2,
       "version_minor": 0
      },
      "text/plain": []
     },
     "metadata": {},
     "output_type": "display_data"
    }
   ],
   "source": [
    "import io\n",
    "from pathlib import Path\n",
    "import time\n",
    "\n",
    "from IPython.display import display, clear_output\n",
    "import ipywidgets as widgets\n",
    "import MDAnalysis as mda\n",
    "import nglview as nv\n",
    "from PIL import Image"
   ]
  },
  {
   "cell_type": "code",
   "execution_count": 2,
   "id": "2bec30f4-2d50-4ecb-96e6-7435cace2b1f",
   "metadata": {},
   "outputs": [],
   "source": [
    "dir_survey = Path.cwd()"
   ]
  },
  {
   "cell_type": "code",
   "execution_count": 3,
   "id": "968ef218-35ce-4b6d-9d3e-0cb274cd7b93",
   "metadata": {},
   "outputs": [],
   "source": [
    "dir_pics = Path(dir_survey, \"images_2D\")\n",
    "\n",
    "bname_pics = \"image_molecule\""
   ]
  },
  {
   "cell_type": "code",
   "execution_count": 4,
   "id": "3e8fa485-f3aa-4192-963a-b7fbd55e8bf1",
   "metadata": {},
   "outputs": [],
   "source": [
    "dir_confs = Path(dir_survey, \"conformers_3D\")\n",
    "\n",
    "bname_confs = \"best_rocs_conformer\""
   ]
  },
  {
   "cell_type": "code",
   "execution_count": 5,
   "id": "dca77946-f1af-4441-9a7d-2fa0e9a055f3",
   "metadata": {},
   "outputs": [],
   "source": [
    "n_pairs = 100\n",
    "ids_pairs = list(range(1, n_pairs + 1))"
   ]
  },
  {
   "cell_type": "code",
   "execution_count": 6,
   "id": "4e63e4a2-b725-44cd-8f85-f36629bdaefe",
   "metadata": {},
   "outputs": [],
   "source": [
    "suffixes_mols = [\"a\", \"b\"]"
   ]
  },
  {
   "cell_type": "code",
   "execution_count": 7,
   "id": "3034d972-d146-4d52-a042-cea6972a8873",
   "metadata": {},
   "outputs": [
    {
     "name": "stderr",
     "output_type": "stream",
     "text": [
      "/home/enrico/anaconda3/lib/python3.7/site-packages/MDAnalysis/topology/base.py:203: DeprecationWarning: `np.int` is a deprecated alias for the builtin `int`. To silence this warning, use `int` by itself. Doing this will not modify any behavior and is safe. When replacing `np.int`, you may wish to use e.g. `np.int64` or `np.int32` to specify the precision. If you wish to review your current use, check the release note link for additional information.\n",
      "Deprecated in NumPy 1.20; for more details and guidance: https://numpy.org/devdocs/release/1.20.0-notes.html#deprecations\n",
      "  residx = np.zeros_like(criteria[0], dtype=np.int)\n",
      "/home/enrico/anaconda3/lib/python3.7/site-packages/MDAnalysis/topology/PDBParser.py:426: DeprecationWarning: `np.int` is a deprecated alias for the builtin `int`. To silence this warning, use `int` by itself. Doing this will not modify any behavior and is safe. When replacing `np.int`, you may wish to use e.g. `np.int64` or `np.int32` to specify the precision. If you wish to review your current use, check the release note link for additional information.\n",
      "Deprecated in NumPy 1.20; for more details and guidance: https://numpy.org/devdocs/release/1.20.0-notes.html#deprecations\n",
      "  atom_id = np.int(conect[6:11])\n"
     ]
    }
   ],
   "source": [
    "id_pair = 100\n",
    "\n",
    "views = {suffix_mol: nv.NGLWidget() for suffix_mol in suffixes_mols}\n",
    "mols = {}\n",
    "nums_atoms = []\n",
    "for suffix_mol in suffixes_mols:\n",
    "    file_mol = Path(dir_confs, f\"{bname_confs}_{id_pair:03}{suffix_mol}.pdb\")\n",
    "    mol = mda.Universe(file_mol.as_posix())\n",
    "    mols[suffix_mol] = mol\n",
    "    nums_atoms.append(mol.atoms.n_atoms)\n",
    "\n",
    "#Calculate a default orientation for current molecular pair,\n",
    "#based on number of atoms.\n",
    "max_n_atoms = max(nums_atoms)\n",
    "default_orientation = [0 for i in range(15)]\n",
    "default_orientation += [1] #last element of 4x4 matrix is always 1\n",
    "value_diag = min(30, max_n_atoms)\n",
    "ids_diag = [0, 5, 10] #id of diagonal elements (except last)\n",
    "for i in ids_diag:\n",
    "    default_orientation[i] = value_diag \n",
    "    \n",
    "for suffix_mol in suffixes_mols:\n",
    "    mol = mols[suffix_mol]\n",
    "    view = views[suffix_mol]\n",
    "    view.add_component(mol)\n",
    "    view._set_camera_orientation(default_orientation)\n",
    "    view.handle_resize()\n",
    "\n",
    "\n",
    "grid_gap = \"1%\"\n",
    "grid_views = widgets.AppLayout(left_sidebar=views[\"a\"],\n",
    "                               right_sidebar=views[\"b\"],\n",
    "                               grid_gap=grid_gap,\n",
    "                               )"
   ]
  },
  {
   "cell_type": "code",
   "execution_count": 8,
   "id": "6f90d094-1ddb-4483-8f89-5212a9f9c4aa",
   "metadata": {},
   "outputs": [
    {
     "data": {
      "application/vnd.jupyter.widget-view+json": {
       "model_id": "e1ebbe1359754eb2863f097d99fe7fa3",
       "version_major": 2,
       "version_minor": 0
      },
      "text/plain": [
       "AppLayout(children=(NGLWidget(layout=Layout(grid_area='left-sidebar')), NGLWidget(layout=Layout(grid_area='rig…"
      ]
     },
     "metadata": {},
     "output_type": "display_data"
    }
   ],
   "source": [
    "grid_views"
   ]
  },
  {
   "cell_type": "markdown",
   "id": "af73f120-2c97-41f1-9b60-e17c4b22198a",
   "metadata": {},
   "source": [
    "Directory that will contain the outputs.\n",
    "***(!)***: Using `view.download_image` does not allow to write image files directly: the browser will ask you what to do with the given picture, and you should manually place the pictures in the right directory!"
   ]
  },
  {
   "cell_type": "code",
   "execution_count": 9,
   "id": "caa9bb72-9ee9-4042-b409-aa5c3e0c59fd",
   "metadata": {},
   "outputs": [],
   "source": [
    "dir_out = Path(dir_survey, \"initial_representations_3D\")\n",
    "dir_out.mkdir(exist_ok=True)"
   ]
  },
  {
   "cell_type": "code",
   "execution_count": 10,
   "id": "ab23b4a9-2636-4287-b9ea-92fe1b5026cb",
   "metadata": {},
   "outputs": [],
   "source": [
    "for suffix_mol, view in views.items():\n",
    "    view.download_image(f\"representation_3D_{id_pair:03}{suffix_mol}.png\")"
   ]
  }
 ],
 "metadata": {
  "kernelspec": {
   "display_name": "Python 3",
   "language": "python",
   "name": "python3"
  },
  "language_info": {
   "codemirror_mode": {
    "name": "ipython",
    "version": 3
   },
   "file_extension": ".py",
   "mimetype": "text/x-python",
   "name": "python",
   "nbconvert_exporter": "python",
   "pygments_lexer": "ipython3",
   "version": "3.7.10"
  }
 },
 "nbformat": 4,
 "nbformat_minor": 5
}
