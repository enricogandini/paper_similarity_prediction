{
 "cells": [
  {
   "cell_type": "code",
   "execution_count": 1,
   "id": "4ce86bd1",
   "metadata": {},
   "outputs": [
    {
     "data": {
      "application/vnd.jupyter.widget-view+json": {
       "model_id": "9419dc5f633040a18740d1873bfa6862",
       "version_major": 2,
       "version_minor": 0
      },
      "text/plain": []
     },
     "metadata": {},
     "output_type": "display_data"
    }
   ],
   "source": [
    "import asyncio\n",
    "from collections import Counter\n",
    "import datetime\n",
    "from functools import partial\n",
    "import os\n",
    "from pathlib import Path\n",
    "import random\n",
    "from typing import List\n",
    "import uuid\n",
    "\n",
    "from IPython.display import display, clear_output\n",
    "import ipywidgets as widgets\n",
    "from markdown import markdown\n",
    "import MDAnalysis as mda\n",
    "import nglview as nv\n",
    "\n",
    "from database_utils import Base, User, Answer\n",
    "from database_utils import create_db_engine_and_session"
   ]
  },
  {
   "cell_type": "code",
   "execution_count": 2,
   "id": "a175a1f7",
   "metadata": {},
   "outputs": [],
   "source": [
    "#The current notebook should be\n",
    "#in the main \"molecular similarity survey\" directory.\n",
    "dir_survey = Path.cwd()"
   ]
  },
  {
   "cell_type": "code",
   "execution_count": 3,
   "id": "2ef9ca43",
   "metadata": {},
   "outputs": [],
   "source": [
    "dir_pics = Path(dir_survey, \"images_2D\")\n",
    "\n",
    "bname_pics = \"image_molecule\""
   ]
  },
  {
   "cell_type": "code",
   "execution_count": 4,
   "id": "d037ac01",
   "metadata": {},
   "outputs": [],
   "source": [
    "dir_confs = Path(dir_survey, \"conformers_3D\")\n",
    "\n",
    "bname_confs = \"best_rocs_conformer\""
   ]
  },
  {
   "cell_type": "code",
   "execution_count": 5,
   "id": "4464fc84",
   "metadata": {},
   "outputs": [],
   "source": [
    "dir_info = Path(dir_survey, \"info_quiz\")"
   ]
  },
  {
   "cell_type": "code",
   "execution_count": 6,
   "id": "60f6a570",
   "metadata": {},
   "outputs": [
    {
     "data": {
      "application/vnd.jupyter.widget-view+json": {
       "model_id": "cf651822d6bb46b5af0c6f00bbc4d336",
       "version_major": 2,
       "version_minor": 0
      },
      "text/plain": [
       "Image(value=b'GIF89a\\x96\\x00\\x96\\x00\\xf7\\xff\\x00\\x01\\x01\\x01\\x1b\\x1b\\x1b444UUU\\x81\\x81\\x81\\x97\\x97\\x97\\xb4\\xb4…"
      ]
     },
     "metadata": {},
     "output_type": "display_data"
    }
   ],
   "source": [
    "loading = widgets.Image()\n",
    "loading.set_value_from_file(\"info_quiz/loading.gif\")\n",
    "display(loading)"
   ]
  },
  {
   "cell_type": "code",
   "execution_count": 7,
   "id": "e1211dbd",
   "metadata": {},
   "outputs": [],
   "source": [
    "dir_captcha = Path(dir_survey, \"captcha\")"
   ]
  },
  {
   "cell_type": "code",
   "execution_count": 8,
   "id": "30701554",
   "metadata": {},
   "outputs": [],
   "source": [
    "#IDs of first and last molecular pair (considering all available pairs).\n",
    "id_first_pair = 1\n",
    "id_last_pair = 100\n",
    "ids_all_pairs = list(range(id_first_pair, id_last_pair + 1))"
   ]
  },
  {
   "cell_type": "code",
   "execution_count": 9,
   "id": "746b9df8",
   "metadata": {},
   "outputs": [],
   "source": [
    "suffixes_mols = [\"a\", \"b\"]"
   ]
  },
  {
   "cell_type": "code",
   "execution_count": 10,
   "id": "b687a433",
   "metadata": {},
   "outputs": [],
   "source": [
    "#Get a random UUID for each user.\n",
    "#(see this: https://pynative.com/python-uuid-module-to-generate-universally-unique-identifiers/)\n",
    "#We will use the hexadecimal string of the UUID as seed for the random number generator.\n",
    "#If needed, the original UUID object can be easily recreated from the hexadecimal string.\n",
    "id_user = uuid.uuid4().hex"
   ]
  },
  {
   "cell_type": "code",
   "execution_count": 11,
   "id": "2bf4e79e",
   "metadata": {},
   "outputs": [],
   "source": [
    "#Number of pairs that will be randomly selected and presented to each user.\n",
    "n_pairs = 5\n",
    "\n",
    "#Use the UUID hexadecimal string as seed for random number generator,\n",
    "#and select IDs of unique molecular pairs that will be presented to each user.\n",
    "random.seed(id_user)\n",
    "ids_pairs = random.sample(ids_all_pairs, n_pairs)\n",
    "\n",
    "#Column that will contain the randomly selected pair IDs for each user.\n",
    "colname_id_pair = \"id_surveyPair\""
   ]
  },
  {
   "cell_type": "code",
   "execution_count": 12,
   "id": "ac430f52",
   "metadata": {},
   "outputs": [],
   "source": [
    "#Dictionary that will store various objects associated with the database,\n",
    "#so that they can be created and accessed by functions in the async task.\n",
    "#This is a slightly better approach than to define global variables.\n",
    "db_objects = {}"
   ]
  },
  {
   "cell_type": "code",
   "execution_count": 13,
   "id": "753e89f3",
   "metadata": {},
   "outputs": [],
   "source": [
    "#Get URL that points to database that will be used by the app\n",
    "#to save the answers. This app is supposed to run on Heroku,\n",
    "#where the URL is stored in the following environment variable.\n",
    "#If running the app locally, add the environment variable\n",
    "#to the `.bashrc` file,\n",
    "#pointing to a database of your choice.\n",
    "db_objects[\"url\"] = os.environ.get(\"DATABASE_URL\")\n",
    "if not db_objects[\"url\"]:\n",
    "    raise ValueError(f\"No environment variable for database\")\n",
    "#SQLAlchemy >= 1.4 expects \"postgresql\", not \"postgres\", in database URL,\n",
    "#but Heroku still uses \"postgres\".\n",
    "#See: https://stackoverflow.com/questions/66690321/\n",
    "db_objects[\"url\"] = db_objects[\"url\"].replace(\"postgres:\", \"postgresql:\")"
   ]
  },
  {
   "cell_type": "code",
   "execution_count": 14,
   "id": "f779903b",
   "metadata": {},
   "outputs": [],
   "source": [
    "user = User(id=id_user,\n",
    "            date=datetime.date.today(),\n",
    "            )"
   ]
  },
  {
   "cell_type": "code",
   "execution_count": 15,
   "id": "dfb8a28b",
   "metadata": {},
   "outputs": [],
   "source": [
    "def make_markdown_widget(file_md: Path, **kwargs_widget) -> widgets.HTML:\n",
    "    \"\"\"Create an HTML widget displaying Markdown text from a given Markdown file.\"\"\"\n",
    "    if not file_md.is_file():\n",
    "        raise FileNotFoundError(f\"Missing `{file_md}`.\")\n",
    "    \n",
    "    widget_md = widgets.HTML(markdown(file_md.read_text()), **kwargs_widget)\n",
    "    return widget_md"
   ]
  },
  {
   "cell_type": "code",
   "execution_count": 16,
   "id": "a2734575",
   "metadata": {},
   "outputs": [],
   "source": [
    "#Select a captcha picture, and get the correct captcha value.\n",
    "random.seed(id_user)\n",
    "file_captcha = random.choice(list(dir_captcha.glob(\"*.png\")))\n",
    "value_captcha = file_captcha.stem\n",
    "\n",
    "image_captcha = widgets.Image().from_file(file_captcha)\n",
    "\n",
    "label_captcha = widgets.Label(\"Please insert the text displayed in the image, then Submit\")\n",
    "\n",
    "field_captcha = widgets.Text()\n",
    "\n",
    "submit_captcha = widgets.Button(description=\"Submit\")\n",
    "\n",
    "feedback_captcha = widgets.Output()\n",
    "\n",
    "\n",
    "grid_captcha = widgets.GridBox([image_captcha,\n",
    "                                label_captcha,\n",
    "                                field_captcha,\n",
    "                                submit_captcha,\n",
    "                                feedback_captcha,\n",
    "                                ],\n",
    "                               layout={\"display\": \"none\"},\n",
    "                               )"
   ]
  },
  {
   "cell_type": "code",
   "execution_count": 17,
   "id": "f52c412d",
   "metadata": {},
   "outputs": [],
   "source": [
    "failed_captcha = widgets.Label(\"You excedeed the maximum number of trials.\",\n",
    "                               layout={\"display\": \"none\"}\n",
    "                               )"
   ]
  },
  {
   "cell_type": "code",
   "execution_count": 18,
   "id": "9e07ce40",
   "metadata": {},
   "outputs": [],
   "source": [
    "timeout_captcha = 60 # / seconds\n",
    "timeout_accept = 180 # / seconds\n",
    "timeout_survey = 3000 # /seconds (for all similarity questions)\n",
    "timeout_pair = timeout_survey / n_pairs # / seconds\n",
    "timeout_experience = 120 # /seconds\n",
    "\n",
    "message_timeout = widgets.Label(\"Sorry, your time expired!\",\n",
    "                                layout={\"display\": \"none\"},\n",
    "                                )"
   ]
  },
  {
   "cell_type": "code",
   "execution_count": 19,
   "id": "01769ad8",
   "metadata": {},
   "outputs": [],
   "source": [
    "file_conditions = Path(dir_info, \"conditions.md\")\n",
    "conditions = make_markdown_widget(file_conditions)\n",
    "\n",
    "accept = widgets.RadioButtons(options=[\"I Accept\", \"I Decline\"], value=\"I Decline\")\n",
    "\n",
    "\n",
    "grid_initial = widgets.GridBox([conditions,\n",
    "                                accept,\n",
    "                                ],\n",
    "                               layout={\"display\": \"none\"},\n",
    "                               )"
   ]
  },
  {
   "cell_type": "code",
   "execution_count": 20,
   "id": "04918a4e",
   "metadata": {},
   "outputs": [],
   "source": [
    "border_width = \"2px\"\n",
    "border_style = \"solid\"\n",
    "border_color = \"black\"\n",
    "border_attributes = f\"{border_width} {border_style} {border_color}\"\n",
    "\n",
    "layout_headers = dict(height=\"auto\",\n",
    "                      width=\"auto\",\n",
    "                      )\n",
    "\n",
    "layout_pic = {\"border\": border_attributes}\n",
    "pics = {suffix_mol: widgets.Image(format=\"svg+xml\", layout=layout_pic) for suffix_mol in suffixes_mols}\n",
    "header_pics = widgets.HTML(\"2D Representations:\", layout=layout_headers)\n",
    "grid_pics = widgets.AppLayout(left_sidebar=pics[\"a\"],\n",
    "                              right_sidebar=pics[\"b\"],\n",
    "                              )\n",
    "grid_2d = widgets.GridBox([header_pics, grid_pics])\n",
    "\n",
    "layout_view = {\"border\": border_attributes}\n",
    "views = {suffix_mol: nv.NGLWidget(layout=layout_view) for suffix_mol in suffixes_mols}\n",
    "grid_gap = \"1%\"\n",
    "header_views = widgets.Label(\"3D Representations (interactive):\", layout=layout_headers)\n",
    "layout_reset_button = dict(width=\"auto\")\n",
    "reset_button = widgets.Button(description=\"Reset 3D Views\", layout=layout_reset_button)\n",
    "grid_views = widgets.AppLayout(left_sidebar=views[\"a\"],\n",
    "                               right_sidebar=views[\"b\"],\n",
    "                               footer=reset_button,\n",
    "                               grid_gap=grid_gap,\n",
    "                               #Setting pane heights prevents the formation of\n",
    "                               #too much \"empty space\" below the reset button.\n",
    "                               pane_heights=[0, 6, 1]\n",
    "                               )\n",
    "grid_3d = widgets.GridBox([header_views, grid_views])\n",
    "\n",
    "file_question = Path(dir_info, \"question_molecules.md\")\n",
    "question = make_markdown_widget(file_question)\n",
    "categories_similarity = [\"Yes\", \"No\"]\n",
    "similar = widgets.RadioButtons(options=categories_similarity,\n",
    "                               value=None,\n",
    "                               )\n",
    "submit_str = \"Submit Answer ({}/\" + f\"{n_pairs})\"\n",
    "submit_similar = widgets.Button()\n",
    "epilog = widgets.Label(\"There are no right or wrong answers!\")\n",
    "feedback_similar = widgets.Output()\n",
    "grid_similar = widgets.GridBox([question,\n",
    "                                similar,\n",
    "                                submit_similar,\n",
    "                                epilog,\n",
    "                                feedback_similar,\n",
    "                                ],\n",
    "                               )\n",
    "\n",
    "#Select whether of 2D or 3D displays will be above for current user.\n",
    "options_above = [\"2D\", \"3D\"]\n",
    "random.seed(id_user)\n",
    "above = random.choice(options_above)\n",
    "if above == \"2D\":\n",
    "    grid_above = grid_2d\n",
    "    grid_below = grid_3d\n",
    "elif above == \"3D\":\n",
    "    grid_above = grid_3d\n",
    "    grid_below = grid_2d\n",
    "else:\n",
    "    pass\n",
    "\n",
    "grid_survey = widgets.GridBox([grid_similar,\n",
    "                               grid_above,\n",
    "                               grid_below,\n",
    "                               ],\n",
    "                               layout={\"display\": \"none\"},\n",
    "                               )"
   ]
  },
  {
   "cell_type": "code",
   "execution_count": 21,
   "id": "ddeef5d4",
   "metadata": {},
   "outputs": [],
   "source": [
    "question_experience = widgets.HTML(\"One last question: what is your current academic qualification?\")\n",
    "\n",
    "categories_experience = [\"PhD Student\",\n",
    "                         \"Postdoc\",\n",
    "                         \"Professor / Researcher\",\n",
    "                         \"None of the above\",\n",
    "                         ]\n",
    "experience = widgets.RadioButtons(options=categories_experience,\n",
    "                                  value=None,\n",
    "                                  )\n",
    "\n",
    "submit_experience = widgets.Button(description=\"Submit Answer\")\n",
    "\n",
    "feedback_experience = widgets.Output()\n",
    "\n",
    "\n",
    "grid_experience = widgets.GridBox([question_experience,\n",
    "                                   experience,\n",
    "                                   submit_experience,\n",
    "                                   feedback_experience,\n",
    "                                   ],\n",
    "                                  layout={\"display\": \"none\"},\n",
    "                                  )"
   ]
  },
  {
   "cell_type": "code",
   "execution_count": 22,
   "id": "94f37197",
   "metadata": {},
   "outputs": [],
   "source": [
    "file_thanks = Path(dir_info, \"thanks.md\")\n",
    "thanks = make_markdown_widget(file_thanks)\n",
    "\n",
    "file_logo_group = Path(dir_info, \"logo_group_Strasbourg.png\")\n",
    "logo_group = widgets.Image().from_file(file_logo_group)\n",
    "logo_group.layout = {\"max_width\": \"8cm\"}\n",
    "\n",
    "grid_thanks = widgets.GridBox([thanks,\n",
    "                               logo_group,\n",
    "                               ],\n",
    "                              layout={\"display\": \"none\"}\n",
    "                              )"
   ]
  },
  {
   "cell_type": "code",
   "execution_count": 23,
   "id": "ad4dfdaa",
   "metadata": {},
   "outputs": [],
   "source": [
    "def switch_widget(old, new):\n",
    "    \"\"\"Conceal `old` widget and show `new` widget.\"\"\"\n",
    "    old.layout.display = \"none\"\n",
    "    new.layout.display = \"block\""
   ]
  },
  {
   "cell_type": "code",
   "execution_count": 24,
   "id": "ecdde814",
   "metadata": {},
   "outputs": [],
   "source": [
    "def commit_dispose(session, engine):\n",
    "    \"\"\"Commit database `session` and dispose of database `engine`.\n",
    "Necessary to close connections to Heroku Postgres database, so that if user\"\"\"\n",
    "    session.commit()\n",
    "    engine.dispose()"
   ]
  },
  {
   "cell_type": "code",
   "execution_count": 25,
   "id": "a7e809d9",
   "metadata": {},
   "outputs": [],
   "source": [
    "def switch_commit_dispose(old, new, session, engine):\n",
    "    \"\"\"Conceal `old` widget and show `new` widget.\n",
    "Also, commit current database `session` connection, and dispose of database `engine`.\n",
    "This is necessary to close connections to Heroku Postgres database,\n",
    "even if the window on which the app is launched is not closed.\"\"\"\n",
    "    switch_widget(old, new)\n",
    "    commit_dispose(session, engine)"
   ]
  },
  {
   "cell_type": "code",
   "execution_count": 26,
   "id": "5d2e2116",
   "metadata": {},
   "outputs": [],
   "source": [
    "def new_displayed_molecule(mol: mda.Universe,\n",
    "                           view: nv.NGLWidget,\n",
    "                           ) -> nv.component.ComponentViewer:\n",
    "    \"\"\"Remove all existing molecules and display a new molecule in a NGLWidget view.\"\"\"\n",
    "    \n",
    "    #Remove all existing components in `view`.\n",
    "    #(if `view` is empty, no component will be removed.)\n",
    "    for component in view:\n",
    "        view.remove_component(component)\n",
    "    \n",
    "    #Add a new component, thus displaying `mol`.\n",
    "    component = view.add_component(mol)\n",
    "    \n",
    "    #For a better display in Voilà.\n",
    "    view.handle_resize()\n",
    "    \n",
    "    return component"
   ]
  },
  {
   "cell_type": "code",
   "execution_count": 27,
   "id": "a2a24e85",
   "metadata": {},
   "outputs": [],
   "source": [
    "def wait_for_click_captcha(field, submit_button, correct_value: str):\n",
    "    future = asyncio.Future()\n",
    "    \n",
    "    counter_trials = Counter()\n",
    "    max_trials = 3\n",
    "    \n",
    "    def on_button_clicked(counter_trials, submit_button):\n",
    "        #The solution to count clicks on a Button is inspired\n",
    "        #by: https://stackoverflow.com/questions/32616321/incrementing-a-counter-using-ipython-widgets\n",
    "        #(!)It is not possible to use a simple integer counter, I have tried:\n",
    "        #the count would remain 1.\n",
    "        counter_trials.update(\"_\")\n",
    "        field_value = field.value\n",
    "        \n",
    "        if field_value == correct_value:\n",
    "            success = True\n",
    "            future.set_result(success)\n",
    "            \n",
    "            #Create database engine and session.\n",
    "            #(!)It is important to create them after the captcha was passed,\n",
    "            #otherwise each time an user connected to the Heroku app\n",
    "            #(even a fake user who did not pass the captcha),\n",
    "            #the Heroku Postgres database would count a connection,\n",
    "            #and connections to Heroku database are limited!\n",
    "            create_db_engine_and_session(db_objects)\n",
    "            \n",
    "#             #Add all tables to database.\n",
    "#             Base.metadata.create_all(db_objects[\"engine\"])\n",
    "            \n",
    "            #Add current User to table, updating its status.\n",
    "            db_objects[\"session\"].add(user)\n",
    "            user.status = \"Started\"\n",
    "            commit_dispose(db_objects[\"session\"], db_objects[\"engine\"])\n",
    "        \n",
    "        \n",
    "        else:\n",
    "            if counter_trials[\"_\"] < max_trials:\n",
    "                with feedback_captcha:\n",
    "                    feedback_captcha.clear_output()\n",
    "                    print(\"You submitted the wrong text! Try again!\")\n",
    "            else:\n",
    "                success = False\n",
    "                future.set_result(success)\n",
    "        \n",
    "        \n",
    "    submit_button.on_click(partial(on_button_clicked, counter_trials))\n",
    "    return future"
   ]
  },
  {
   "cell_type": "code",
   "execution_count": 28,
   "id": "5f02e196",
   "metadata": {},
   "outputs": [],
   "source": [
    "def wait_for_change(widget, value, id_user: str):\n",
    "    future = asyncio.Future()\n",
    "    \n",
    "    def getvalue(change):\n",
    "        # make the new value available\n",
    "        future.set_result(change.new)\n",
    "        widget.unobserve(getvalue, value)\n",
    "        \n",
    "        #Update status of user,\n",
    "        #and insert type of survey that will be displayed to him.\n",
    "        user.status = \"Accepted\"\n",
    "        user.display_above = above\n",
    "        commit_dispose(db_objects[\"session\"], db_objects[\"engine\"])\n",
    "        \n",
    "        return change.new\n",
    "    \n",
    "    widget.observe(getvalue, value)\n",
    "    return future"
   ]
  },
  {
   "cell_type": "code",
   "execution_count": 29,
   "id": "e183b199",
   "metadata": {},
   "outputs": [],
   "source": [
    "#Whether to synchronize the cameras of the 3D viewers\n",
    "#for each molecular pair; change manually!\n",
    "sync_cameras = False"
   ]
  },
  {
   "cell_type": "code",
   "execution_count": 30,
   "id": "965ab9e6",
   "metadata": {},
   "outputs": [],
   "source": [
    "def wait_for_click_similar(submit_button, id_pair, count_pair):\n",
    "    future = asyncio.Future()\n",
    "    \n",
    "    #(!)Remember to display a widget before changing its value!\n",
    "    #Otherwise, it will not work as intended (will not appear, will not update...).\n",
    "    \n",
    "    nums_atoms = []\n",
    "    for suffix_mol in suffixes_mols:\n",
    "        #Load 2D picture and display it.\n",
    "        file_pic = Path(dir_pics, f\"{bname_pics}_{id_pair:03}{suffix_mol}.svg\")\n",
    "        pics[suffix_mol].set_value_from_file(file_pic)\n",
    "        \n",
    "        #Load 3D conformer.\n",
    "        file_mol = Path(dir_confs, f\"{bname_confs}_{id_pair:03}{suffix_mol}.pdb\")\n",
    "        mol = mda.Universe(file_mol.as_posix())\n",
    "        \n",
    "        #Get number of atoms\n",
    "        #(it will be used to define a default orientation).\n",
    "        nums_atoms.append(mol.atoms.n_atoms)\n",
    "            \n",
    "        #Display molecule.\n",
    "        new_displayed_molecule(mol, views[suffix_mol])\n",
    "    \n",
    "    \n",
    "    #Calculate a default orientation for current molecular pair,\n",
    "    #based on number of atoms.\n",
    "    max_n_atoms = max(nums_atoms)\n",
    "    default_orientation = [0 for i in range(15)]\n",
    "    default_orientation += [1] #last element of 4x4 matrix is always 1\n",
    "    value_diag = min(30, max_n_atoms)\n",
    "    ids_diag = [0, 5, 10] #id of diagonal elements (except last)\n",
    "    for i in ids_diag:\n",
    "        default_orientation[i] = value_diag\n",
    "    \n",
    "    #And set default orientation to both molecules.\n",
    "    views[\"a\"]._set_camera_orientation(default_orientation)\n",
    "    views[\"b\"]._set_camera_orientation(default_orientation)\n",
    "    \n",
    "    \n",
    "    if sync_cameras:\n",
    "        #Make moving one molecule also move the other.\n",
    "        views[\"a\"]._set_sync_camera([views[\"b\"]])\n",
    "        views[\"b\"]._set_sync_camera([views[\"a\"]])\n",
    "    else:\n",
    "        pass\n",
    "    \n",
    "    \n",
    "    #Change description of submit button, informing user\n",
    "    #on the progress of the survey.\n",
    "    submit_button.description = submit_str.format(count_pair)\n",
    "    \n",
    "    \n",
    "    def reset_views(reset_button):\n",
    "        views[\"a\"]._set_camera_orientation(default_orientation)\n",
    "        views[\"b\"]._set_camera_orientation(default_orientation)\n",
    "        \n",
    "    \n",
    "    reset_button.on_click(reset_views)\n",
    "    \n",
    "    \n",
    "    def on_button_clicked(submit_button):\n",
    "        \n",
    "        answer = similar.value\n",
    "        if answer == None:\n",
    "            with feedback_similar:\n",
    "                feedback_similar.clear_output()\n",
    "                print(\"Please provide an answer to proceed\")\n",
    "        else:\n",
    "            feedback_similar.clear_output()\n",
    "            answer = Answer(id_pair=id_pair, similar=answer)\n",
    "            future.set_result(answer)\n",
    "    \n",
    "    \n",
    "    similar.value = None\n",
    "    submit_button.on_click(on_button_clicked)\n",
    "    return future"
   ]
  },
  {
   "cell_type": "code",
   "execution_count": 31,
   "id": "32bd98d6",
   "metadata": {},
   "outputs": [],
   "source": [
    "def wait_for_click_experience(submit_button):\n",
    "    future = asyncio.Future()\n",
    "    \n",
    "    \n",
    "    def on_button_clicked(submit_button):\n",
    "        \n",
    "        answer = experience.value\n",
    "        if answer == None:\n",
    "            with feedback_experience:\n",
    "                feedback_experience.clear_output()\n",
    "                print(\"Please provide an answer to complete the survey\")\n",
    "        else:\n",
    "            feedback_experience.clear_output()\n",
    "            future.set_result(answer)\n",
    "        \n",
    "    \n",
    "    submit_button.on_click(on_button_clicked)\n",
    "    return future"
   ]
  },
  {
   "cell_type": "code",
   "execution_count": 32,
   "id": "8e52eba2",
   "metadata": {},
   "outputs": [],
   "source": [
    "async def survey_molecules(ids_pairs) -> List[Answer]:\n",
    "    answers = []\n",
    "    for count_pair, id_pair in enumerate(ids_pairs, start=1):\n",
    "\n",
    "        try:\n",
    "            answer = await asyncio.wait_for(wait_for_click_similar(submit_similar, id_pair, count_pair),\n",
    "                                            timeout=timeout_pair,\n",
    "                                            )\n",
    "            answers.append(answer)\n",
    "        except asyncio.TimeoutError as error:\n",
    "            raise asyncio.TimeoutError\n",
    "\n",
    "    \n",
    "    return answers"
   ]
  },
  {
   "cell_type": "code",
   "execution_count": 33,
   "id": "4694c7de",
   "metadata": {},
   "outputs": [
    {
     "data": {
      "application/vnd.jupyter.widget-view+json": {
       "model_id": "b651e2c9cda245ec83321376abf3e0d0",
       "version_major": 2,
       "version_minor": 0
      },
      "text/plain": [
       "GridBox(children=(Image(value=b'\\x89PNG\\r\\n\\x1a\\n\\x00\\x00\\x00\\rIHDR\\x00\\x00\\x01\"\\x00\\x00\\x00y\\x08\\x02\\x00\\x00\\…"
      ]
     },
     "metadata": {},
     "output_type": "display_data"
    },
    {
     "data": {
      "application/vnd.jupyter.widget-view+json": {
       "model_id": "cc9c8ca810df4a72832f0e76d8c88394",
       "version_major": 2,
       "version_minor": 0
      },
      "text/plain": [
       "Label(value='You excedeed the maximum number of trials.', layout=Layout(display='none'))"
      ]
     },
     "metadata": {},
     "output_type": "display_data"
    },
    {
     "data": {
      "application/vnd.jupyter.widget-view+json": {
       "model_id": "e7edb4110720454191360ff1c25c035d",
       "version_major": 2,
       "version_minor": 0
      },
      "text/plain": [
       "Label(value='Sorry, your time expired!', layout=Layout(display='none'))"
      ]
     },
     "metadata": {},
     "output_type": "display_data"
    },
    {
     "data": {
      "application/vnd.jupyter.widget-view+json": {
       "model_id": "2a83974c5d264398b710921868ec1610",
       "version_major": 2,
       "version_minor": 0
      },
      "text/plain": [
       "GridBox(children=(HTML(value='<h1>Molecular Similarity Survey</h1>\\n<p>Many thanks for taking part in this res…"
      ]
     },
     "metadata": {},
     "output_type": "display_data"
    },
    {
     "data": {
      "application/vnd.jupyter.widget-view+json": {
       "model_id": "c6b98a1c96f24eeda7953841e3419031",
       "version_major": 2,
       "version_minor": 0
      },
      "text/plain": [
       "GridBox(children=(GridBox(children=(HTML(value='<h3>Do you think that the two molecules are similar?</h3>'), R…"
      ]
     },
     "metadata": {},
     "output_type": "display_data"
    },
    {
     "data": {
      "application/vnd.jupyter.widget-view+json": {
       "model_id": "9a358afa12f64610b05c2f70bd54d4ba",
       "version_major": 2,
       "version_minor": 0
      },
      "text/plain": [
       "GridBox(children=(HTML(value='One last question: what is your current academic qualification?'), RadioButtons(…"
      ]
     },
     "metadata": {},
     "output_type": "display_data"
    },
    {
     "data": {
      "application/vnd.jupyter.widget-view+json": {
       "model_id": "9a6de31ffb79482c96cae5e29c4f2385",
       "version_major": 2,
       "version_minor": 0
      },
      "text/plain": [
       "GridBox(children=(HTML(value='<h3>Thank you for taking the survey!</h3>\\n<p>You can close the webpage.</p>'), …"
      ]
     },
     "metadata": {},
     "output_type": "display_data"
    }
   ],
   "source": [
    "async def f():\n",
    "    \n",
    "    switch_widget(loading, grid_captcha)\n",
    "    \n",
    "    #Wait for user to complete captcha problem.\n",
    "    try:\n",
    "        success_captcha = await asyncio.wait_for(wait_for_click_captcha(field_captcha,\n",
    "                                                                        submit_captcha,\n",
    "                                                                        correct_value=value_captcha,\n",
    "                                                                        ),\n",
    "                                                 timeout=timeout_captcha,\n",
    "                                                 )\n",
    "        \n",
    "        if success_captcha:\n",
    "            switch_widget(grid_captcha, grid_initial)\n",
    "        else:\n",
    "            #Database Engine and Session were not created\n",
    "            #if the user failed the captcha, so no need to commit and dispose.\n",
    "            switch_widget(grid_captcha, failed_captcha)\n",
    "            return \"Failed Captcha\"\n",
    "            \n",
    "    except asyncio.TimeoutError as error:\n",
    "        #Database Engine and Session were not created\n",
    "        #if the captcha timed out, so no need to commit and dispose.\n",
    "        switch_widget(grid_captcha, message_timeout)\n",
    "        return error\n",
    "    \n",
    "    \n",
    "    #Wait for user to accept the terms and conditions.\n",
    "    try:\n",
    "        await asyncio.wait_for(wait_for_change(accept, \"value\", id_user),\n",
    "                               timeout=timeout_accept\n",
    "                               )\n",
    "    \n",
    "        switch_widget(grid_initial, grid_survey)\n",
    "    \n",
    "    except asyncio.TimeoutError as error:\n",
    "        switch_commit_dispose(grid_initial,\n",
    "                              message_timeout,\n",
    "                              db_objects[\"session\"],\n",
    "                              db_objects[\"engine\"],\n",
    "                              )\n",
    "        return error\n",
    "    \n",
    "    \n",
    "    #Wait for user to answer all similarity questions,\n",
    "    #creating answers DataFrame.    \n",
    "    try:\n",
    "        answers_similarity = await survey_molecules(ids_pairs)\n",
    "        \n",
    "        switch_widget(grid_survey, grid_experience)\n",
    "        \n",
    "    except asyncio.TimeoutError as error:\n",
    "        switch_commit_dispose(grid_survey,\n",
    "                              message_timeout,\n",
    "                              db_objects[\"session\"],\n",
    "                              db_objects[\"engine\"],\n",
    "                              )\n",
    "        return error\n",
    "    \n",
    "    \n",
    "    #Wait for user to answer academic experience question,\n",
    "    #and add to answers DataFrame.\n",
    "    try:\n",
    "        answer_experience = await asyncio.wait_for(wait_for_click_experience(submit_experience),\n",
    "                                                   timeout=timeout_experience,\n",
    "                                                   )\n",
    "\n",
    "\n",
    "        #Add similarity answers and experience to current User, and update status.\n",
    "        user.status = \"Completed\"\n",
    "        user.answers = answers_similarity\n",
    "        user.experience = answer_experience\n",
    "        \n",
    "        #Thank the user for completing survey.\n",
    "        switch_commit_dispose(grid_experience,\n",
    "                              grid_thanks,\n",
    "                              db_objects[\"session\"],\n",
    "                              db_objects[\"engine\"],\n",
    "                              )\n",
    "        \n",
    "        return\n",
    "    \n",
    "    except asyncio.TimeoutError as error:\n",
    "        switch_commit_dispose(grid_experience,\n",
    "                              message_timeout,\n",
    "                              db_objects[\"session\"],\n",
    "                              db_objects[\"engine\"],\n",
    "                              )\n",
    "        return error\n",
    "\n",
    "\n",
    "task = asyncio.create_task(f())\n",
    "\n",
    "display(grid_captcha,\n",
    "        failed_captcha,\n",
    "        message_timeout,\n",
    "        grid_initial,\n",
    "        grid_survey,\n",
    "        grid_experience,\n",
    "        grid_thanks,\n",
    "        )"
   ]
  },
  {
   "cell_type": "code",
   "execution_count": null,
   "id": "6480f493",
   "metadata": {},
   "outputs": [],
   "source": []
  }
 ],
 "metadata": {
  "kernelspec": {
   "display_name": "Python 3",
   "language": "python",
   "name": "python3"
  },
  "language_info": {
   "codemirror_mode": {
    "name": "ipython",
    "version": 3
   },
   "file_extension": ".py",
   "mimetype": "text/x-python",
   "name": "python",
   "nbconvert_exporter": "python",
   "pygments_lexer": "ipython3",
   "version": "3.7.10"
  }
 },
 "nbformat": 4,
 "nbformat_minor": 5
}
